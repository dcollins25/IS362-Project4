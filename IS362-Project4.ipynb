{
 "cells": [
  {
   "cell_type": "code",
   "execution_count": 1,
   "id": "59822e43",
   "metadata": {},
   "outputs": [],
   "source": [
    "# Dan Collins - IS362 - Project 4 - Mushroom DataSet"
   ]
  },
  {
   "cell_type": "code",
   "execution_count": 5,
   "id": "05955aec",
   "metadata": {},
   "outputs": [],
   "source": [
    "import pandas as pd\n",
    "from sklearn.model_selection import train_test_split\n",
    "from sklearn.ensemble import RandomForestClassifier\n",
    "from sklearn.metrics import accuracy_score"
   ]
  },
  {
   "cell_type": "code",
   "execution_count": 6,
   "id": "5dafea19",
   "metadata": {},
   "outputs": [],
   "source": [
    "new_directory = r'C:\\Users\\dmcol\\Documents\\GitWork\\IS362-Project4'"
   ]
  },
  {
   "cell_type": "code",
   "execution_count": 7,
   "id": "91fcc2de",
   "metadata": {},
   "outputs": [],
   "source": [
    "os.chdir(new_directory)"
   ]
  },
  {
   "cell_type": "code",
   "execution_count": 10,
   "id": "0fcc4de5",
   "metadata": {},
   "outputs": [],
   "source": [
    "# Load the dataset file obtained from the mushroom.zip downloaded zip\n",
    "data = pd.read_csv('agaricus-lepiota.data', header=None)"
   ]
  },
  {
   "cell_type": "code",
   "execution_count": 11,
   "id": "9cd5a67b",
   "metadata": {},
   "outputs": [],
   "source": [
    "# Define the columns to select. 0 is for Edibility, 1 is for Cap-Shape, and 5 is for Odor.\n",
    "# For Project 4, CapShape and Odor will act as the Predictor columns.\n",
    "subset_data = data.iloc[:, [0, 1, 5]].copy()"
   ]
  },
  {
   "cell_type": "code",
   "execution_count": 12,
   "id": "667d0fc6",
   "metadata": {},
   "outputs": [],
   "source": [
    "# Rename columns\n",
    "subset_data.columns = ['Edibility', 'CapShape', 'Odor']"
   ]
  },
  {
   "cell_type": "code",
   "execution_count": 13,
   "id": "a14ed1a8",
   "metadata": {},
   "outputs": [],
   "source": [
    "# Define mapping dictionaries for column transformations\n",
    "edibility_map = {'e': 1, 'p': 2, 'u': 3}\n",
    "capshape_map = {'b': 1, 'c': 2, 'x': 3, 'f': 4, 'k': 5, 's': 6}\n",
    "odor_map = {'a': 1, 'l': 2, 'c': 3, 'y': 4, 'f': 5, 'm': 6, 'n': 7, 'p': 8, 's': 9}"
   ]
  },
  {
   "cell_type": "code",
   "execution_count": 13,
   "id": "04b41935",
   "metadata": {},
   "outputs": [],
   "source": []
  },
  {
   "cell_type": "code",
   "execution_count": 23,
   "id": "dd08033a",
   "metadata": {},
   "outputs": [],
   "source": [
    "# NOTE: I understand the preferred way to include a multi-line comment in Python is to use triple quotes \"\"\",\n",
    "# but I used only the # for better readability in Jupyter\n",
    "\n",
    "# Below show the numeric mappings for each column's data values:\n",
    "#\n",
    "#Edibility has edible, poisonous, or unknown edibility\n",
    "#\t1 = Edible\n",
    "#\t2 = Poisonous\n",
    "#\t3 = Unknown Edibility\n",
    "#    \n",
    "#Cap-Shape has bell=b,conical=c,convex=x,flat=f, knobbed=k,sunken=s\n",
    "#\t1 = bell\n",
    "#\t2 = conical\n",
    "#\t3 = convex\n",
    "#\t4 = flat\n",
    "#\t5 = knobbed\n",
    "#\t6 = sunken\n",
    "#    \n",
    "#Odor has almond=a,anise=l,creosote=c,fishy=y,foul=f, musty=m,none=n,pungent=p,spicy=s\n",
    "#\t1 = almond\n",
    "#\t2 = anise\n",
    "#\t3 = cresote\n",
    "#\t4 = fishy\n",
    "#\t5 = foul\n",
    "#\t6 = musty\n",
    "#\t7 = none\n",
    "#\t8 = pungent\n",
    "#\t9 = spicy"
   ]
  },
  {
   "cell_type": "code",
   "execution_count": 14,
   "id": "e50d1851",
   "metadata": {},
   "outputs": [],
   "source": [
    "# Do the mapping\n",
    "subset_data.loc[:, 'Edibility'] = subset_data['Edibility'].map(edibility_map)\n",
    "subset_data.loc[:, 'CapShape'] = subset_data['CapShape'].map(capshape_map)\n",
    "subset_data.loc[:, 'Odor'] = subset_data['Odor'].map(odor_map)"
   ]
  },
  {
   "cell_type": "code",
   "execution_count": 15,
   "id": "398f8015",
   "metadata": {},
   "outputs": [],
   "source": [
    "# Create dummy variables for CapShape and Odor\n",
    "dummy_data = pd.get_dummies(subset_data, columns=['CapShape', 'Odor'], drop_first=True)"
   ]
  },
  {
   "cell_type": "code",
   "execution_count": 16,
   "id": "c7181c23",
   "metadata": {},
   "outputs": [],
   "source": [
    "# Split the data into features (X) and target variable (y)\n",
    "X = dummy_data.drop('Edibility', axis=1)\n",
    "y = dummy_data['Edibility']"
   ]
  },
  {
   "cell_type": "code",
   "execution_count": 17,
   "id": "757828a8",
   "metadata": {},
   "outputs": [],
   "source": [
    "# Split data into train and test sets\n",
    "X_train, X_test, y_train, y_test = train_test_split(X, y, test_size=0.2, random_state=42)"
   ]
  },
  {
   "cell_type": "code",
   "execution_count": 20,
   "id": "31942288",
   "metadata": {},
   "outputs": [],
   "source": [
    "# Initialize the classifier\n",
    "clf = RandomForestClassifier(random_state=42)"
   ]
  },
  {
   "cell_type": "code",
   "execution_count": 21,
   "id": "fed9bde7",
   "metadata": {},
   "outputs": [
    {
     "data": {
      "text/plain": [
       "RandomForestClassifier(random_state=42)"
      ]
     },
     "execution_count": 21,
     "metadata": {},
     "output_type": "execute_result"
    }
   ],
   "source": [
    "# Fit the classifier on the training data\n",
    "clf.fit(X_train, y_train)"
   ]
  },
  {
   "cell_type": "code",
   "execution_count": 22,
   "id": "4374357c",
   "metadata": {},
   "outputs": [],
   "source": [
    "# Predict on the test set\n",
    "y_pred = clf.predict(X_test)"
   ]
  },
  {
   "cell_type": "code",
   "execution_count": 23,
   "id": "1fb1bed8",
   "metadata": {},
   "outputs": [
    {
     "name": "stdout",
     "output_type": "stream",
     "text": [
      "Accuracy of the model: 0.9852307692307692\n"
     ]
    }
   ],
   "source": [
    "# Calculate accuracy\n",
    "accuracy = accuracy_score(y_test, y_pred)\n",
    "print(f\"Accuracy of the model: {accuracy}\")"
   ]
  },
  {
   "cell_type": "code",
   "execution_count": 28,
   "id": "1983f602",
   "metadata": {},
   "outputs": [],
   "source": [
    "# The reported accuracy of the model, at approximately 98.52%, is quite high.\n",
    "\n",
    "# This indicates that this model has a high level of accuracy while predicting if a mushroom is poisonous or not based\n",
    "# on the mushroom's Capshape and Odor.\n",
    "\n",
    "# This provides a conclusion that Capshape and Odor are strong predictors of a mushroom's Edibility.\n",
    "\n",
    "#My recommendation would be to include additional columns from the dataset into the analysis, to see if it improves the\n",
    "#accuracy and makes the model a better predictor of mushroom's Edibility."
   ]
  }
 ],
 "metadata": {
  "kernelspec": {
   "display_name": "Python 3 (ipykernel)",
   "language": "python",
   "name": "python3"
  },
  "language_info": {
   "codemirror_mode": {
    "name": "ipython",
    "version": 3
   },
   "file_extension": ".py",
   "mimetype": "text/x-python",
   "name": "python",
   "nbconvert_exporter": "python",
   "pygments_lexer": "ipython3",
   "version": "3.9.13"
  }
 },
 "nbformat": 4,
 "nbformat_minor": 5
}
